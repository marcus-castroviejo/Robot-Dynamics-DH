{
 "cells": [
  {
   "cell_type": "code",
   "execution_count": null,
   "id": "46debd68",
   "metadata": {},
   "outputs": [],
   "source": [
    "from sympy import *\n",
    "\n",
    "import numpy as np\n",
    "import pandas as pd\n",
    "import matplotlib.pyplot as plt\n",
    "\n",
    "# Enable the mathjax printer\n",
    "init_printing(use_latex='mathjax')"
   ]
  },
  {
   "cell_type": "markdown",
   "id": "1afefe6c",
   "metadata": {},
   "source": [
    "## --> Classe Robot"
   ]
  },
  {
   "cell_type": "code",
   "execution_count": null,
   "id": "a217b1d5",
   "metadata": {},
   "outputs": [],
   "source": [
    "class Robot:\n",
    "    def __init__(self, configuration:str, dh_table:Matrix, name:str='Cocoabot', **matrices):\n",
    "        \"\"\"\n",
    "        Initializa o robô com a configuração, tabela DH e matrizes necessárias.   \n",
    "        \"\"\"\n",
    "        self.name = name\n",
    "        self.joint_types = list(configuration)\n",
    "        self.dof = len(self.joint_types)\n",
    "\n",
    "        self.joints = pd.DataFrame(columns=['type', 'theta', 'd', 'a', 'alpha'])\n",
    "        self.t = symbols('t')\n",
    "        self.q = [Function(f'q{i+1}')(self.t) for i in range(self.dof)]\n",
    "        self.dq = [qi.diff(self.t) for qi in self.q]\n",
    "        self.ddq = [dqi.diff(self.t) for dqi in self.dq]\n",
    "        self.set_matrices(**matrices)\n",
    "        self.set_dh_params(dh_table)\n",
    "        self.get_joints()\n",
    "        self.compute()\n",
    "\n",
    "    def set_matrices(self, **matrices):\n",
    "        \"\"\"\n",
    "        Estabelece as matrizes necessárias para a dinâmica do robô.\n",
    "        Se não forem fornecidas, usa símbolos simbólicos para as matrizes.\n",
    "        Matrizes:\n",
    "        - masses:     Matriz com as massas dos links: [m1, m2, m3].T (nx1)\n",
    "        - r_cis:      Matriz com o centro de massa de cada link (local): [ci1, ci2, ci3].T (nx1)\n",
    "        - inertias:   Matriz com a inércia de cada link: [[I11:4], [I21:4], [I31:4]] n*(3x3)\n",
    "        - g_vec:      Matriz com o vetor de gravidade: [0 0 -g].T (3x1)\n",
    "        \"\"\"\n",
    "        self.masses_symbols = Matrix(symbols(f'm1:{self.dof+1}'))\n",
    "        self.masses = matrices.get('masses', self.masses_symbols)\n",
    "        self.r_cis_local = matrices.get('r_cis', [Matrix(symbols(f'r_{i+1}x:z')) for i in range(self.dof)])\n",
    "        self.inertias_symbols = [symbols(f'I{i+1}_1:4_1:4') for i in range(3)]\n",
    "        self.inertias = matrices.get('inertias', [Matrix(3,3,self.inertias_symbols[i]) for i in range(self.dof)])\n",
    "        self.g_symbol = symbols('g')\n",
    "        self.g_vec = matrices.get('g_vec', Matrix([0, 0, -self.g_symbol]))\n",
    "    \n",
    "    def set_dh_params(self, dh_table):\n",
    "        \"\"\"\n",
    "        Estabelece os parâmetros DH do robô.\n",
    "        \"\"\"\n",
    "        self.thetas = dh_table[:,0]\n",
    "        self.ds = dh_table[:,1]\n",
    "        self._as_ = dh_table[:,2]\n",
    "        self.alphas = dh_table[:,3]\n",
    "    \n",
    "    def get_joints(self):\n",
    "        \"\"\"\n",
    "        Converte os parâmetros DH em um DataFrame com as informações das juntas.\n",
    "        Transforma os parâmetros simbólicos q em funções de tempo q(t).\n",
    "        \"\"\"\n",
    "        q = symbols(f'q_1:{self.dof+1}')\n",
    "        for tp in self.joint_types:\n",
    "            if tp == 'R': self.thetas = self.thetas.subs(zip(q,self.q))\n",
    "            if tp == 'P': self.ds = self.ds.subs(zip(q,self.q))\n",
    "        self.joints = pd.DataFrame(list(zip(self.joint_types, Matrix(self.thetas), self.ds, self._as_, self.alphas)), \n",
    "                                   columns=['type', 'theta', 'd', 'a', 'alpha'], \n",
    "                                   index=np.arange(self.dof)+1)\n",
    "    \n",
    "    def compute(self):\n",
    "        \"\"\"\n",
    "        Calcula todas as matrizes necessárias para a dinâmica do robô.\n",
    "        \"\"\"\n",
    "        # Kynematics\n",
    "        self.dh_matrices = [self.compute_dh_matrix(joint_index=i+1) for i in range(self.dof)]\n",
    "        self.base_to_joint = [self.calculate_base_to_joint(joint_end=i+1) for i in range(self.dof)]\n",
    "        self.base_to_end_effector = self.base_to_joint[-1]\n",
    "        self.jacobian = self.calculate_jacobian()\n",
    "        # Center of Mass\n",
    "        self.r_cis_global = [self.calculate_r_i_ci(joint_index=i+1) for i in range(self.dof)]\n",
    "        self.jacobian_ci = self.calculate_jacobian(com=True)\n",
    "        # Dynamics\n",
    "        self.inertia_matrix = self.calculate_inertia_matrix()\n",
    "        self.coriolis_matrix = self.calculate_coriolis_matrix()\n",
    "        self.gravity_vector = self.calculate_gravity_vector()\n",
    "        self.tau = self.compute_inverse_dynamics()\n",
    "\n",
    "    def compute_dh_matrix(self, joint_index:int):\n",
    "        \"\"\"\n",
    "        Calcula a matriz de transformação DH para a junta especificada.\n",
    "        \"\"\"\n",
    "        assert joint_index > 0, \"Must be positive.\"\n",
    "        i = joint_index - 1\n",
    "        theta, d, a, alpha = self.thetas[i], self.ds[i], self._as_[i], self.alphas[i]\n",
    "        T = Matrix([[cos(theta), -sin(theta)*cos(alpha), sin(theta)*sin(alpha), a*cos(theta)],\n",
    "                     [sin(theta), cos(theta)*cos(alpha), -cos(theta)*sin(alpha), a*sin(theta)],\n",
    "                     [0, sin(alpha), cos(alpha), d],\n",
    "                     [0, 0, 0, 1]])\n",
    "        return T\n",
    "    \n",
    "    def calculate_joint_to_joint(self, joint_start:int, joint_end:int):\n",
    "        \"\"\"\n",
    "        Calcula a matriz de transformação de uma junta para outra.\n",
    "        \"\"\"\n",
    "        assert joint_start > 0, \"Must be positive.\"\n",
    "        assert joint_end >= joint_start, \"End must be greater than start.\"\n",
    "        result = eye(self.dof + 1)\n",
    "        for i in range(joint_start, joint_end+1):\n",
    "            result = result @ self.dh_matrices[i-1]\n",
    "        return simplify(result)\n",
    "    \n",
    "    def calculate_base_to_joint(self, joint_end):\n",
    "        \"\"\"\n",
    "        Calcula a matriz de transformação da base para a junta especificada.\n",
    "        \"\"\"\n",
    "        return self.calculate_joint_to_joint(joint_start=1, joint_end=joint_end)\n",
    "    \n",
    "    def calculate_base_to_end_effector(self):\n",
    "        \"\"\"\n",
    "        Calcula a matriz de transformação da base para o end-effector.\n",
    "        \"\"\"\n",
    "        return self.calculate_base_to_joint(joint_end=self.dof)\n",
    "    \n",
    "    def get_rotation(self, matrix):\n",
    "        \"\"\"\n",
    "        Separa a matriz de rotação do restante da matriz de transformação.\n",
    "        \"\"\"\n",
    "        return matrix[:self.dof,:self.dof]\n",
    "    \n",
    "    def get_translation(self, matrix):\n",
    "        \"\"\"\n",
    "        Separa o vetor de translação do restante da matriz de transformação.\n",
    "        \"\"\"\n",
    "        return matrix[:self.dof,-1:]\n",
    "\n",
    "    def z_i_minus_one(self, joint_index):\n",
    "        \"\"\"\n",
    "        Calcula o vetor z_i-1, que é o eixo de rotação da junta i-1, usado para calcular o Jacobiano.\n",
    "        \"\"\"\n",
    "        result = eye(self.dof)\n",
    "        for i in range(1, joint_index):\n",
    "            result = result @ self.get_rotation(self.dh_matrices[i-1])\n",
    "        # result = self.get_rotation(self.base_to_joint[joint_index-1])\n",
    "        result = result @ Matrix([0, 0, 1])\n",
    "        return simplify(result)\n",
    "    \n",
    "    def r_i_minus_one_to_n(self, joint_index, joint_ci=None):\n",
    "        \"\"\"\n",
    "        Calcula a posição do link relativo ao end-effector.\n",
    "        \"\"\"\n",
    "        # com = joint_ci is not None\n",
    "        if not joint_ci:\n",
    "            return self.get_translation(self.base_to_end_effector - self.base_to_joint[joint_index-1]) \\\n",
    "                    if joint_index > 1 else self.get_translation(self.base_to_end_effector)\n",
    "        else:\n",
    "            return self.r_cis_global[joint_ci-1] - self.get_translation(self.base_to_joint[joint_index - 1])\n",
    "\n",
    "    def calculate_r_i_ci(self, joint_index):\n",
    "        \"\"\"\n",
    "        Calcula a posição do centro de massa do link relativo ao end-effector.\n",
    "        \"\"\"\n",
    "        r_local = Matrix.vstack(self.r_cis_local[joint_index-1], Matrix([1]))\n",
    "        r_ci_global = self.base_to_joint[joint_index-1] @ r_local\n",
    "        return simplify(r_ci_global[:-1,:])\n",
    "\n",
    "    def calculate_jacobian_col_i(self, joint_index:int, joint_ci=None):\n",
    "        \"\"\"\n",
    "        Calcula a coluna i da matriz jacobiana J(q) para o joint_index.\n",
    "        \"\"\"\n",
    "        # com = joint_ci is not None\n",
    "        if joint_ci:\n",
    "            if joint_ci < joint_index:\n",
    "                return Matrix(6*[0])\n",
    "        joint_type = self.joint_types[joint_index-1]\n",
    "        if joint_type == 'R':\n",
    "            J_vi = Matrix(np.cross(self.z_i_minus_one(joint_index).T, self.r_i_minus_one_to_n(joint_index, joint_ci).T)).T\n",
    "            J_wi = self.z_i_minus_one(joint_index)\n",
    "        elif joint_type == 'P':\n",
    "            J_vi = self.z_i_minus_one(joint_index)\n",
    "            J_wi = Matrix([0, 0, 0])\n",
    "        J_i = Matrix(np.vstack((J_vi, J_wi)))\n",
    "        return simplify(J_i)\n",
    "\n",
    "    def calculate_jacobian(self, com=False):\n",
    "        \"\"\"\n",
    "        Calcula a matriz jacobiana J(q). [6 x n]\n",
    "        - Se com=True, calcula a jacobiana considerando o centro de massa de cada link.\n",
    "        \"\"\"\n",
    "        if not com:\n",
    "            return Matrix(np.hstack(tuple((self.calculate_jacobian_col_i(i+1) for i in range(self.dof)))))\n",
    "        else:\n",
    "            return [Matrix(np.hstack(tuple((self.calculate_jacobian_col_i(j+1, i+1) \n",
    "                    for j in range(self.dof)))))\n",
    "                    for i in range(self.dof)]\n",
    "\n",
    "    def calculate_inertia_matrix(self):\n",
    "        \"\"\"\n",
    "        Calcula a matriz de inércia M(q). [n x n]\n",
    "        \"\"\"\n",
    "        inertia_matrix = zeros(self.dof, self.dof)\n",
    "\n",
    "        for i in range(self.dof):\n",
    "            jv = self.jacobian_ci[i][:3, :]\n",
    "            jw = self.jacobian_ci[i][3:, :]\n",
    "            inertia_matrix += self.masses[i] * (jv.T @ jv) + (jw.T @ self.inertias[i] @ jw)\n",
    "\n",
    "        return simplify(inertia_matrix)\n",
    "\n",
    "    def calculate_coriolis_matrix(self):\n",
    "        \"\"\"\n",
    "        Calcula a matriz de Coriolis C(q, dq). [n x n]\n",
    "        \"\"\"\n",
    "        n = self.dof\n",
    "        M = self.inertia_matrix\n",
    "        C = zeros(n, n)\n",
    "        for i in range(n):\n",
    "            for j in range(n):\n",
    "                for k in range(n):\n",
    "                    c_ijk = 0.5 * (diff(M[i, k], self.q[j]) + diff(M[i, j], self.q[k]) - diff(M[j, k], self.q[i]))\n",
    "                    C[i, j] += c_ijk * self.dq[k]\n",
    "\n",
    "        return simplify(C)\n",
    "\n",
    "    def calculate_gravity_vector(self):\n",
    "        \"\"\"\n",
    "        Calcula o vetor de gravidade G(q). [n x 1]\n",
    "        \"\"\"\n",
    "        U = 0\n",
    "        for i, com in enumerate(self.r_cis_global):\n",
    "            U += self.masses[i] * self.g_vec.dot(com)\n",
    "        # Differentiating the total potential energy\n",
    "        G = Matrix([diff(U, q_i) for q_i in self.q])\n",
    "        return G\n",
    "    \n",
    "    def compute_inverse_dynamics(self):\n",
    "        \"\"\"\n",
    "        Cálculo dos tau necessários para a dinâmica inversa do robô. [n x 1]\n",
    "        \"\"\"\n",
    "        self.q_d = [Function(f'q_{i+1}d')(self.t) for i in range(self.dof)]\n",
    "        self.dq_d = [qi.diff(self.t) for qi in self.q_d]\n",
    "        self.ddq_d = [dqi.diff(self.t) for dqi in self.dq_d]\n",
    "\n",
    "        M = self.inertia_matrix\n",
    "        C = self.coriolis_matrix\n",
    "        G = self.gravity_vector\n",
    "        tau = M.subs(zip(self.q,self.q_d)) @ Matrix(self.ddq_d) + \\\n",
    "              C.subs(zip(self.dq, self.dq_d)).subs(zip(self.q,self.q_d)) @ Matrix(self.dq_d) + \\\n",
    "              G.subs(zip(self.q,self.q_d))\n",
    "        return simplify(tau)\n",
    "\n",
    "    def eval_dinamics(self, tau, q_d=None, dq_d=None, ddq_d=None):\n",
    "        \"\"\"\n",
    "        Substituição dos valores das variáveis q, dq e ddq na equação de tau simbólica.\n",
    "        \"\"\"\n",
    "        # Importante manter esta ordem!\n",
    "        if ddq_d: tau = tau.subs(zip(self.ddq_d, ddq_d))\n",
    "        if dq_d: tau = tau.subs(zip(self.dq_d, dq_d))\n",
    "        if q_d: tau = tau.subs(zip(self.q_d, q_d))\n",
    "        return tau.simplify()\n",
    "    \n",
    "    def eval_matrix(self, matrix, q=None, dq=None, ddq=None):\n",
    "        \"\"\"\n",
    "        Substituição dos valores das variáveis q, dq e ddq em matrizes simbólicas.\n",
    "        \"\"\"\n",
    "        # Importante manter esta ordem!\n",
    "        if ddq: matrix = matrix.subs(zip(self.ddq, ddq))\n",
    "        if dq: matrix = matrix.subs(zip(self.dq, dq))\n",
    "        if q: matrix = matrix.subs(zip(self.q, q))\n",
    "        return matrix.simplify()"
   ]
  },
  {
   "cell_type": "markdown",
   "id": "b3c51f52",
   "metadata": {},
   "source": [
    "## --> Definição do robô"
   ]
  },
  {
   "cell_type": "code",
   "execution_count": null,
   "id": "ff508f81",
   "metadata": {},
   "outputs": [],
   "source": [
    "# == Definir a Configuração == #\n",
    "configuration = 'RRP'\n",
    "\n",
    "\n",
    "# == Definir as Massas == #\n",
    "m1, m2, m3 = Matrix(symbols(f'm_1:4'))\n",
    "masses = Matrix([m1, 0, m3])            # massas: [m1, 0, m3] (m2 = 0)\n",
    "L1, L2 = symbols('L_1 L_2')             # Comprimentos: L1 e L2\n",
    "\n",
    "\n",
    "# == Definir as Inércias == #\n",
    "# Inércias: [I1x, I1y, I1z],  I2 = 0, I3 = [I3x, I3y, I3z]\n",
    "inertias = [diag(*symbols('I_1x:z')), diag(0,0,0), diag(*symbols('I_3x:z'))]\n",
    "\n",
    "\n",
    "# == Definir os Centros de Massa (local) == #\n",
    "# Centros de massa: [cm1, 0, cm3] (cm2 = 0)\n",
    "cm1, cm2, cm3 = symbols(f'r_1:4')\n",
    "r_cis = [Matrix([0, 0, cm]) for cm in [cm1, cm2, cm3]]\n",
    "\n",
    "\n",
    "# == Definir o Vetor Gravidade (base) == #\n",
    "g_vec = Matrix([0, 0, -symbols('g')])\n",
    "\n",
    "\n",
    "# == Definir os parâmetros DH == #\n",
    "q1, q2, q3 = symbols('q_1:4')\n",
    "# Versão alternativa (desnecessária, pois já é feito na classe Robot)\n",
    "# q1, q2, q3 = [Function(f'q{i+1}')(symbols('t')) for i in range(3)]\n",
    "\n",
    "# == Tabela DH == #\n",
    "dh_table = Matrix(\n",
    "    [[q1, L1, 0, pi/2],\n",
    "    [q2, 0, 0, pi/2],\n",
    "    [pi/2, q3+L2, 0, 0]]\n",
    ")\n",
    "\n",
    "# == Criando o Robô Cocoabot == #\n",
    "r = Robot(configuration='RRP', dh_table=dh_table, masses=masses, r_cis=r_cis, inertias=inertias)\n",
    "r.joints"
   ]
  },
  {
   "cell_type": "markdown",
   "id": "4a739c3a",
   "metadata": {},
   "source": [
    "## --> Parâmetros da Classe Robot"
   ]
  },
  {
   "cell_type": "code",
   "execution_count": null,
   "id": "f173d8d1",
   "metadata": {},
   "outputs": [],
   "source": [
    "# DH Parameters\n",
    "# r.thetas, r.ds, r._as_, r.alphas"
   ]
  },
  {
   "cell_type": "code",
   "execution_count": null,
   "id": "03dc5b0e",
   "metadata": {},
   "outputs": [],
   "source": [
    "# DOF, q, dq, ddq, \n",
    "# r.dof, r.q, r.dq, r.ddq"
   ]
  },
  {
   "cell_type": "code",
   "execution_count": null,
   "id": "d5f9d9fd",
   "metadata": {},
   "outputs": [],
   "source": [
    "# Masses, Inertias, gravity vector\n",
    "# r.masses, r.inertias, r.g_vec"
   ]
  },
  {
   "cell_type": "code",
   "execution_count": null,
   "id": "367f64ad",
   "metadata": {},
   "outputs": [],
   "source": [
    "# Position of center of mass (local and global)\n",
    "# r.r_cis_local, r.r_cis_global"
   ]
  },
  {
   "cell_type": "code",
   "execution_count": null,
   "id": "0b421773",
   "metadata": {},
   "outputs": [],
   "source": [
    "# Transition Matrix: i-1 -> i\n",
    "# r.dh_matrices"
   ]
  },
  {
   "cell_type": "code",
   "execution_count": null,
   "id": "54ed16ed",
   "metadata": {},
   "outputs": [],
   "source": [
    "# Transition Matrix: 0 -> i\n",
    "# r.base_to_joint"
   ]
  },
  {
   "cell_type": "code",
   "execution_count": null,
   "id": "219700e7",
   "metadata": {},
   "outputs": [],
   "source": [
    "# Transition Matrix: 0 -> n (dof) [from base to end effector]\n",
    "# r.base_to_end_effector"
   ]
  },
  {
   "cell_type": "code",
   "execution_count": null,
   "id": "66e1dbcd",
   "metadata": {},
   "outputs": [],
   "source": [
    "# Jacobian (end effector)\n",
    "# r.jacobian"
   ]
  },
  {
   "cell_type": "code",
   "execution_count": null,
   "id": "aa94082a",
   "metadata": {},
   "outputs": [],
   "source": [
    "# Jacobian for each center of mass\n",
    "# r.jacobian_ci"
   ]
  },
  {
   "cell_type": "markdown",
   "id": "f0ec6ece",
   "metadata": {},
   "source": [
    "### Inercia, Coriolis, gravidade e Torque\n",
    "\n",
    "- Resultados simbólicos obtidos para Inercia (M), Coriolis (C), gravidade (G) e torque (tau)"
   ]
  },
  {
   "cell_type": "code",
   "execution_count": null,
   "id": "64923fb7",
   "metadata": {},
   "outputs": [],
   "source": [
    "# Matriz de Inércia\n",
    "r.inertia_matrix"
   ]
  },
  {
   "cell_type": "code",
   "execution_count": null,
   "id": "48d57682",
   "metadata": {},
   "outputs": [],
   "source": [
    "# Matriz de Coriolis\n",
    "r.coriolis_matrix"
   ]
  },
  {
   "cell_type": "code",
   "execution_count": null,
   "id": "f8d6e521",
   "metadata": {},
   "outputs": [],
   "source": [
    "# Vetor de Gravidade\n",
    "simplify(r.gravity_vector)"
   ]
  },
  {
   "cell_type": "code",
   "execution_count": null,
   "id": "756d953c",
   "metadata": {},
   "outputs": [],
   "source": [
    "# tau e Forças (Tau)\n",
    "r.tau"
   ]
  },
  {
   "cell_type": "markdown",
   "id": "7f70c352",
   "metadata": {},
   "source": [
    "## --> Substituição de Parâmetros\n",
    "\n",
    "- Visualização de quais parâmetros podem ser substituidos.\n",
    "- Realiza a substituição para as matrizes M, C e G."
   ]
  },
  {
   "cell_type": "code",
   "execution_count": null,
   "id": "55364306",
   "metadata": {},
   "outputs": [],
   "source": [
    "# Confere o que da pra substituir (exemplo com variável tau)\n",
    "print('Da pra substituir essas variaveis:', end=' ')\n",
    "print(r.tau.free_symbols)\n",
    "print(f'\\nSimbolos:')\n",
    "r.tau.free_symbols"
   ]
  },
  {
   "cell_type": "code",
   "execution_count": null,
   "id": "e3075a17",
   "metadata": {},
   "outputs": [],
   "source": [
    "# Definição do que vamos substituir\n",
    "substitution_dict = {\n",
    "    'm_1':0.9112, 'm_3':1.3446,\n",
    "    'I_1x':1.6209e-5, 'I_1y':1.5989e-5, 'I_1z':9.6796e-7,\n",
    "    'I_3x':1.2403e-4, 'I_3y':2.4632e-4, 'I_3z':1.2389e-4,\n",
    "    'r_1':0.080, 'r_3':0.233,\n",
    "    'L_2':0.5870,\n",
    "    'g':9.81\n",
    "}"
   ]
  },
  {
   "cell_type": "code",
   "execution_count": null,
   "id": "6c98baaa",
   "metadata": {},
   "outputs": [],
   "source": [
    "# Substituindo os valores\n",
    "# Matriz de inercia\n",
    "M = r.inertia_matrix\n",
    "subs_M = simplify(M.subs(substitution_dict))\n",
    "\n",
    "# Matriz de Coriolis\n",
    "C = r.coriolis_matrix\n",
    "subs_C = simplify(C.subs(substitution_dict))\n",
    "\n",
    "# Vetor de gravidade\n",
    "G = r.gravity_vector\n",
    "subs_G = simplify(G.subs(substitution_dict))\n",
    "\n",
    "subs_M, subs_C, subs_G"
   ]
  },
  {
   "cell_type": "markdown",
   "id": "e0eedc6e",
   "metadata": {},
   "source": [
    "## --> Trajetória desejada\n",
    "\n",
    "- Feito através de um polinômio quíntuplo"
   ]
  },
  {
   "cell_type": "code",
   "execution_count": null,
   "id": "f4a11c8f",
   "metadata": {},
   "outputs": [],
   "source": [
    "def coeff_traj(q0, qf, tf):\n",
    "    \"\"\"\n",
    "    Calcula os coeficientes do polinômio de quinta ordem para a trajetória entre q0 e qf em tf segundos.\n",
    "    \"\"\"\n",
    "    D = qf - q0\n",
    "    a0 = q0\n",
    "    a1 = 0\n",
    "    a2 = 0\n",
    "    a3 = 10 * D / tf**3\n",
    "    a4 = -15 * D / tf**4\n",
    "    a5 = 6 * D / tf**5\n",
    "    return a0, a1, a2, a3, a4, a5\n",
    "\n",
    "def calc_traj(a, t):\n",
    "    \"\"\"\n",
    "    Calcula a trajetória, velocidade e aceleração a partir dos coeficientes do polinômio de quinta ordem.\n",
    "    \"\"\"\n",
    "    q   = a[0] + a[1]*t + a[2]*t**2 + a[3]*t**3 + a[4]*t**4 + a[5]*t**5\n",
    "    qd  = a[1] + 2*a[2]*t + 3*a[3]*t**2 + 4*a[4]*t**3 + 5*a[5]*t**4\n",
    "    qdd = 2*a[2] + 6*a[3]*t + 12*a[4]*t**2 + 20*a[5]*t**3\n",
    "    return q, qd, qdd\n",
    "\n",
    "\n",
    "# Definindo a trajetória: \n",
    "# q0 = posição inicial, qf = posição final, tf = tempo final\n",
    "q0 = np.array([0, np.pi/2, 0])\n",
    "qf = np.array([np.pi/2, (3/4)*np.pi, 0.08])\n",
    "tf = 5.0 \n",
    "\n",
    "# Calculando os coeficientes do polinômio de quinta ordem para cada junta\n",
    "coeffs = [coeff_traj(q0[i], qf[i], tf) for i in range(r.dof)]\n",
    "# Definindo a trajetórias para cada junta como funções\n",
    "trajs = [lambda t, c=coeff: calc_traj(c, t) for coeff in coeffs]\n",
    "\n",
    "# Separando as posições, velocidades e acelerações desejadas\n",
    "q_d=[trajs[i](r.t)[0] for i in range(r.dof)]\n",
    "dq_d=[trajs[i](r.t)[1] for i in range(r.dof)]\n",
    "ddq_d=[trajs[i](r.t)[2] for i in range(r.dof)]\n",
    "\n",
    "# Exemplo: mostrar as posições da trajetória desejadas de cada junta\n",
    "q_d"
   ]
  },
  {
   "cell_type": "markdown",
   "id": "c601922f",
   "metadata": {},
   "source": [
    "## --> Exemplo de como a matriz vai se transformando\n",
    "\n",
    "- Legal de ver como as variáveis vão sendo substituidas:\n",
    "1. Original\n",
    "2. Parâmetros substituidos: $I, m, cm, ...$\n",
    "3. Variáveis substituídas: $q_1, q_2, q_3$ conforme a trajetória desejada (ainda em função de $t$)\n",
    "4. Transforma em função do Python e avalia para um ponto"
   ]
  },
  {
   "cell_type": "code",
   "execution_count": null,
   "id": "a79b715f",
   "metadata": {},
   "outputs": [],
   "source": [
    "# 1. Escolha a matriz: r.inertia_matrix, r.coriolis_matrix, r.gravity_vector\n",
    "matrix = r.coriolis_matrix\n",
    "matrix"
   ]
  },
  {
   "cell_type": "code",
   "execution_count": null,
   "id": "e95366e2",
   "metadata": {},
   "outputs": [],
   "source": [
    "# 2. Com parametros substituidos\n",
    "subs_matrix = matrix.subs(substitution_dict).simplify()\n",
    "subs_matrix"
   ]
  },
  {
   "cell_type": "code",
   "execution_count": null,
   "id": "cd22e31d",
   "metadata": {},
   "outputs": [],
   "source": [
    "# 3. Com variaveis substituidas q(t), dq(t), ddq(t)\n",
    "t_matrix = r.eval_matrix(matrix=subs_matrix, \n",
    "                        q=q_d,\n",
    "                        dq=dq_d,\n",
    "                        ddq=ddq_d\n",
    "                       )\n",
    "t_matrix"
   ]
  },
  {
   "cell_type": "code",
   "execution_count": null,
   "id": "8fa4ca34",
   "metadata": {},
   "outputs": [],
   "source": [
    "# 4. Como funcao: matrix(t)\n",
    "tgrid = np.linspace(0, tf, 300)\n",
    "matrix_func = lambdify('t', t_matrix)\n",
    "\n",
    "# Escolha um ponto pra avaliar\n",
    "i = 150\n",
    "print('t (s) = ', tgrid[i])\n",
    "Matrix(matrix_func(t=tgrid[i]))"
   ]
  },
  {
   "cell_type": "code",
   "execution_count": null,
   "id": "d30383c9",
   "metadata": {},
   "outputs": [],
   "source": [
    "# # Outra forma de avaliar a matriz\n",
    "# ti_matrix = r.eval_matrix(matrix=subs_matrix, \n",
    "#                           q=lambdify('t',q)(tgrid[i]),\n",
    "#                           dq=lambdify('t',dq)(tgrid[i]),\n",
    "#                           ddq=lambdify('t',ddq)(tgrid[i])\n",
    "#                        )\n",
    "# ti_matrix"
   ]
  },
  {
   "cell_type": "markdown",
   "id": "ab25187e",
   "metadata": {},
   "source": [
    "## --> Cálculo das matrizes de Inercia, Coriolis e Gravidade para a trajetória desejada"
   ]
  },
  {
   "cell_type": "code",
   "execution_count": null,
   "id": "d33a0067",
   "metadata": {},
   "outputs": [],
   "source": [
    "# Inertia Matrix\n",
    "M = r.eval_matrix(matrix=subs_M, q=q_d)\n",
    "M_func = lambdify('t', M)\n",
    "M = [M_func(t=t) for t in tgrid]\n",
    "\n",
    "# Coriolis Matrix\n",
    "C = r.eval_matrix(matrix=subs_C, q=q_d, dq=dq_d)\n",
    "C_func = lambdify('t', C)\n",
    "C = [C_func(t=t) for t in tgrid]\n",
    "\n",
    "# Gravity Vector\n",
    "G = r.eval_matrix(matrix=subs_G, q=q_d)\n",
    "G_func = lambdify('t', G)\n",
    "G = [G_func(t=t) for t in tgrid]"
   ]
  },
  {
   "cell_type": "markdown",
   "id": "a35255b3",
   "metadata": {},
   "source": [
    "### Cálculo dos valores máximos dentro da trajetória desejada\n",
    "\n",
    "- Usado no cálculo dos ganhos do controlador PID"
   ]
  },
  {
   "cell_type": "code",
   "execution_count": null,
   "id": "dca080f1",
   "metadata": {},
   "outputs": [],
   "source": [
    "# Maximo Inercia\n",
    "M_max = M[np.argmax([np.linalg.norm(Mi) for Mi in M])]\n",
    "M_max"
   ]
  },
  {
   "cell_type": "code",
   "execution_count": null,
   "id": "bb532566",
   "metadata": {},
   "outputs": [],
   "source": [
    "# Maximo Coriolis\n",
    "C_max = C[np.argmax([np.linalg.norm(Ci) for Ci in C])]\n",
    "C_max"
   ]
  },
  {
   "cell_type": "markdown",
   "id": "bd6b699c",
   "metadata": {},
   "source": [
    "## --> Controle PID\n",
    "\n",
    "- No final tem uma explicação sobre a implementação em versão matemática que fica mais fácil de entender\n",
    "- Você tem que definir qual *pid* você quer: *'classico'*, *'tc'* (torque calculado) ou *'previo'* (calculados previamentes)"
   ]
  },
  {
   "cell_type": "code",
   "execution_count": null,
   "id": "0ec567ee",
   "metadata": {},
   "outputs": [],
   "source": [
    "# Especificações do sistema de controle\n",
    "pid = 'classico'            # PID: 'classico' para PID Clássico, 'tc' para Torque Calculado\n",
    "ts = 0.3                    # Settling time com 5% tolerância\n",
    "zeta = 0.59                 # Overshoot de 10%\n",
    "\n",
    "# Cálculo da frequência natural e alocação de um polo p afastado\n",
    "wn = 3/(zeta*ts)\n",
    "p = 5*zeta*wn\n",
    "\n",
    "zeta, wn, p"
   ]
  },
  {
   "cell_type": "markdown",
   "id": "12d723b0",
   "metadata": {},
   "source": [
    "### Cálculo dos ganhos"
   ]
  },
  {
   "cell_type": "code",
   "execution_count": null,
   "id": "46111109",
   "metadata": {},
   "outputs": [],
   "source": [
    "# PID Clássico\n",
    "if pid == 'classico':\n",
    "    Kp = np.diag(np.diag((wn**2 + 2*zeta*wn*p) * M_max))\n",
    "    Kd = np.diag(np.diag((2*zeta*wn + p) * M_max - C_max))\n",
    "    Ki = np.diag(np.diag((wn**2*p) * M_max))\n",
    "\n",
    "# PID + Torque Calculado\n",
    "elif pid == 'tc':\n",
    "    Kp = np.diag(3*[wn**2 + 2*zeta*wn*p])\n",
    "    Kd = np.diag(3*[2*zeta*wn + p])\n",
    "    Ki = np.diag(3*[wn**2*p])\n",
    "\n",
    "Matrix(Kp), Matrix(Kd), Matrix(Ki)"
   ]
  },
  {
   "cell_type": "markdown",
   "id": "588004fd",
   "metadata": {},
   "source": [
    "### Implementação do controle e cálculo da trajetória real"
   ]
  },
  {
   "cell_type": "code",
   "execution_count": null,
   "id": "5fa98000",
   "metadata": {},
   "outputs": [],
   "source": [
    "# Trajetória desejada\n",
    "q_ds = np.asarray(lambdify('t',q_d)(tgrid)).T           # Tem que ser (N, 3), por isso .T\n",
    "dq_ds = np.asarray(lambdify('t',dq_d)(tgrid)).T\n",
    "ddq_ds = np.asarray(lambdify('t',ddq_d)(tgrid)).T\n",
    "\n",
    "# Trajetória real\n",
    "q = np.zeros_like(q_ds)\n",
    "q[0] = q0\n",
    "dq = np.zeros_like(dq_ds)\n",
    "ddq = np.zeros_like(ddq_ds)\n",
    "\n",
    "# Erros\n",
    "e = np.zeros_like(q_ds)\n",
    "tau = np.zeros_like(q_ds)\n",
    "e_int = np.zeros(3)\n",
    "\n",
    "\n",
    "N = len(tgrid)\n",
    "dt = tgrid[1] - tgrid[0]\n",
    "for k in range(N-1):\n",
    "    e[k] = q_ds[k] - q[k]\n",
    "    edot = dq_ds[k] - dq[k]\n",
    "    e_int += e[k] * dt\n",
    "\n",
    "    M = np.array(r.eval_matrix(matrix=subs_M, q=list(q[k])), dtype=float)\n",
    "    C = np.array(r.eval_matrix(matrix=subs_C, q=list(q[k]), dq=list(dq[k])), dtype=float)\n",
    "    G = np.array(r.eval_matrix(matrix=subs_G, q=list(q[k])), dtype=float).flatten()\n",
    "\n",
    "    # Cálculo de torque PID\n",
    "    if pid == 'classico':\n",
    "        tau[k] = (Kp @ e[k] + Kd @ edot + Ki @ e_int + G)\n",
    "        ddq[k+1] = np.linalg.solve(M, tau[k] - C @ dq[k] - G)\n",
    "    elif pid == 'tc':\n",
    "        tau[k] = M @ (ddq_ds[k] + Kd @ edot + Kp @ e[k] + Ki @ e_int) + C @ dq[k] + G\n",
    "        ddq[k+1] = np.linalg.solve(M, tau[k] - C @ dq[k] - G)\n",
    "    \n",
    "    # Simula próximos valores\n",
    "    dq[k+1] = dq[k] + ddq[k+1] * dt\n",
    "    q[k+1] = q[k] + dq[k+1] * dt"
   ]
  },
  {
   "cell_type": "markdown",
   "id": "b340462f",
   "metadata": {},
   "source": [
    "## --> Plot dos resultados\n",
    "\n",
    "- Aqui você tem que escolher qual vc quer visualizar: $q$, $\\dot q$, $\\ddot q$, $e$, $\\tau$\n",
    "- Escolha também entre visualização única, separada ou individual"
   ]
  },
  {
   "cell_type": "markdown",
   "id": "a9d91496",
   "metadata": {},
   "source": [
    "### Visualização única"
   ]
  },
  {
   "cell_type": "code",
   "execution_count": null,
   "id": "93f6cb72",
   "metadata": {},
   "outputs": [],
   "source": [
    "# # Caso quiser converter para graus\n",
    "# q_deg = np.array([np.rad2deg(q[:,0]), np.rad2deg(q[:,1]), q[:,2]]).T\n",
    "# q_ds_deg = np.array([np.rad2deg(q_ds[:,0]), np.rad2deg(q_ds[:,1]), q_ds[:,2]]).T"
   ]
  },
  {
   "cell_type": "code",
   "execution_count": null,
   "id": "23d00c19",
   "metadata": {},
   "outputs": [],
   "source": [
    "# Plot: Visualização única [todos em 1 gráfico]\n",
    "plotar = 'q'         # Pode ser 'q', 'dq', 'ddq', 'erro' ou 'tau'\n",
    "\n",
    "data = {'q': q, 'dq': dq, 'ddq': ddq, 'erro': e, 'tau': tau}\n",
    "data_d = {'q': q_ds, 'dq': dq_ds, 'ddq': ddq_ds}\n",
    "title = {'q': 'Posição: $q(t)$', \n",
    "         'dq': 'Velocidade: $\\\\dot q(t)$', \n",
    "         'ddq': 'Aceleração: $\\\\ddot q(t)$', \n",
    "         'erro': 'Erro: $e(t) = q_d(t) - q(t)$', \n",
    "         'tau': 'Torque|Força: $\\\\tau(t)$'}\n",
    "lbl = {'q': [f'$q_{i+1}(t)$' for i in range(r.dof)],\n",
    "       'dq': [f'$\\\\dot q_{i+1}(t)$' for i in range(r.dof)],\n",
    "       'ddq': [f'$\\\\ddot q_{i+1}(t)$' for i in range(r.dof)],\n",
    "       'erro': [f'$e_{i+1}(t)$' for i in range(r.dof)],\n",
    "       'tau': [f'$\\\\tau_{i+1}(t)$' for i in range(r.dof)]}\n",
    "lbl_d = {'q': [f'$q_{i+1}^d(t)$' for i in range(r.dof)],\n",
    "         'dq': [f'$\\\\dot q_{i+1}^d(t)$' for i in range(r.dof)],\n",
    "         'ddq': [f'$\\\\ddot q_{i+1}^d(t)$' for i in range(r.dof)],\n",
    "         'erro': [f'$e_{i+1}^d(t)$' for i in range(r.dof)],\n",
    "         'tau': [f'$\\\\tau_{i+1}^d(t)$' for i in range(r.dof)]}\n",
    "un = {'q': ['$[rad]$', '$[rad]$', '$[m]$'],\n",
    "       'dq': ['$[rad/s]$', '$[rad/s]$', '$[m/s]$'],\n",
    "       'ddq': ['$[rad/s^2]$', '$[rad/s^2]$', '$[m/s^2]$'],\n",
    "       'erro': ['$[rad]$', '$[rad]$', '$[m]$'],\n",
    "       'tau': ['$[N.m]$', '$[N.m]$', '$[N]$']}\n",
    "ylbl = {k: [f'{lbl[k][i]} {un[k][i]}' for i in range(r.dof)] for k in lbl.keys()}\n",
    "\n",
    "\n",
    "fig, ax = plt.subplots(figsize=(8, 3), dpi=250, layout='constrained')\n",
    "ax.plot(tgrid, data[plotar], alpha=0.8, label=ylbl[plotar])\n",
    "if plotar in ['q', 'dq', 'ddq']:\n",
    "       ax.plot(tgrid, data_d[plotar], linestyle='--', color='k', lw=.5, label=lbl_d[plotar], alpha=.8)\n",
    "ax.set_title(title[plotar])\n",
    "ax.set_xlabel('Tempo [s]')\n",
    "plt.grid()\n",
    "ax.legend(bbox_to_anchor=(0.5, -0.25), loc='upper center', ncol=(2*r.dof if plotar in ['q', 'dq', 'ddq'] else r.dof))\n",
    "colors = [ax.lines[i].get_color() for i in range(len(ax.lines))]\n"
   ]
  },
  {
   "cell_type": "markdown",
   "id": "efd73c2e",
   "metadata": {},
   "source": [
    "### Visualização separada"
   ]
  },
  {
   "cell_type": "code",
   "execution_count": null,
   "id": "d30e162e",
   "metadata": {},
   "outputs": [],
   "source": [
    "# Plot: Visualização separada [n gráficos]\n",
    "# plotar = 'dq'         # Pode ser 'q', 'dq', 'ddq', 'erro' ou 'tau'\n",
    "\n",
    "fig, axs = plt.subplots(3,1, figsize=(10,3*3), layout='constrained', sharex=True, dpi=250)\n",
    "fig.suptitle(title[plotar], fontsize=16)\n",
    "fig.supxlabel('Tempo [s]', fontsize=14)\n",
    "for i, ax in enumerate(axs):\n",
    "    ax.plot(tgrid, data[plotar].T[i], lw=2, label=lbl[plotar][i], alpha=.8, color=colors[i])\n",
    "    if plotar in ['q', 'dq', 'ddq']:\n",
    "       ax.plot(tgrid, data_d[plotar].T[i], linestyle='--', color='k', lw=1, label=lbl_d[plotar][i], alpha=.8)\n",
    "    ax.set_ylabel(f'{lbl[plotar][i]} {un[plotar][i]}', fontsize=14)\n",
    "    ax.grid()\n"
   ]
  },
  {
   "cell_type": "markdown",
   "id": "9ebe998f",
   "metadata": {},
   "source": [
    "### Visualização individual"
   ]
  },
  {
   "cell_type": "code",
   "execution_count": null,
   "id": "6f5ccaa5",
   "metadata": {},
   "outputs": [],
   "source": [
    "# Plot: Visualização individual\n",
    "# plotar = 'dq'         # Pode ser 'q', 'dq', 'ddq', 'erro' ou 'tau'\n",
    "i = 3                   # Junta a ser plotada (1, 2 ou 3)\n",
    "\n",
    "i -= 1\n",
    "fig, ax = plt.subplots(figsize=(10,3), layout='constrained', dpi=250)\n",
    "ax.plot(tgrid, data[plotar].T[i], lw=2, alpha=.8, color=colors[i])\n",
    "if plotar in ['q', 'dq', 'ddq']:\n",
    "    ax.plot(tgrid, data_d[plotar].T[i], linestyle='--', color='k', lw=1, alpha=.8)\n",
    "ax.set_title(f\"{title[plotar][:title[plotar].find(':')]}: {lbl[plotar][i]}\", fontsize=16)\n",
    "ax.set_ylabel(f'{lbl[plotar][i]} {un[plotar][i]}', fontsize=14)\n",
    "ax.set_xlabel('Tempo [s]', fontsize=14)\n",
    "ax.grid()\n"
   ]
  }
 ],
 "metadata": {
  "kernelspec": {
   "display_name": "base",
   "language": "python",
   "name": "python3"
  },
  "language_info": {
   "codemirror_mode": {
    "name": "ipython",
    "version": 3
   },
   "file_extension": ".py",
   "mimetype": "text/x-python",
   "name": "python",
   "nbconvert_exporter": "python",
   "pygments_lexer": "ipython3",
   "version": "3.12.2"
  }
 },
 "nbformat": 4,
 "nbformat_minor": 5
}
